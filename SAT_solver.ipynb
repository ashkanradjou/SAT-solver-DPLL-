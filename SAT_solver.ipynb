{
  "nbformat": 4,
  "nbformat_minor": 0,
  "metadata": {
    "colab": {
      "provenance": [],
      "collapsed_sections": [
        "clNX-kcyFTJF"
      ],
      "authorship_tag": "ABX9TyMGdyza//740zn7XVZrZZhR",
      "include_colab_link": true
    },
    "kernelspec": {
      "name": "python3",
      "display_name": "Python 3"
    },
    "language_info": {
      "name": "python"
    }
  },
  "cells": [
    {
      "cell_type": "markdown",
      "metadata": {
        "id": "view-in-github",
        "colab_type": "text"
      },
      "source": [
        "<a href=\"https://colab.research.google.com/github/ashkanradjou/SAT-solver-DPLL-/blob/main/SAT_solver.ipynb\" target=\"_parent\"><img src=\"https://colab.research.google.com/assets/colab-badge.svg\" alt=\"Open In Colab\"/></a>"
      ]
    },
    {
      "cell_type": "markdown",
      "source": [
        "# SAT-solver"
      ],
      "metadata": {
        "id": "dJq01_11FKDf"
      }
    },
    {
      "cell_type": "markdown",
      "source": [
        "## Introduction\n",
        "<div dir=rtl>\n",
        "هدف از این گزارش ارائه یک نمای کلی و توضیحی از کد حل کننده SAT پیاده سازی شده در پایتون با استفاده از الگوریتم DPLL (Davis–Putnam–Logemann–Loveland) است.\n",
        "\n",
        " هدف حل کننده SAT تعیین این است که آیا فرمول CNF داده شده (شکل نرمال پیوندی)  satisfy میشود  یا خیر و اگر می شود، یک انتساب برای متغیرها فراهم می کند."
      ],
      "metadata": {
        "id": "clNX-kcyFTJF"
      }
    },
    {
      "cell_type": "code",
      "execution_count": null,
      "metadata": {
        "colab": {
          "base_uri": "https://localhost:8080/"
        },
        "id": "pZ60tyjOLuk6",
        "outputId": "b79a470a-99be-482c-bde3-3ac349e4eefc"
      },
      "outputs": [
        {
          "output_type": "stream",
          "name": "stdout",
          "text": [
            "Satisfiable\n",
            "Assignment: {1: True}\n",
            "Satisfiable\n",
            "Assignment: {2: False, 1: False}\n"
          ]
        }
      ],
      "source": [
        "def dpll_satisfiable(cnf_formula):\n",
        "    assignment = {}\n",
        "    result = dpll(cnf_formula, assignment)\n",
        "    if result is not None:\n",
        "        print(\"Satisfiable\")\n",
        "        print(\"Assignment:\", result)\n",
        "    else:\n",
        "        print(\"Unsatisfiable\")\n",
        "\n",
        "def dpll(cnf_formula, assignment):\n",
        "    if all(len(clause) == 0 for clause in cnf_formula):\n",
        "        return assignment  # All clauses are satisfied\n",
        "\n",
        "    if any(len(clause) == 0 for clause in cnf_formula):\n",
        "        return None  # Some clause is unsatisfied\n",
        "\n",
        "    # Choose an unassigned variable\n",
        "    var = get_unassigned_variable(assignment, cnf_formula)\n",
        "\n",
        "    if var is None:\n",
        "        return None  # All variables are assigned, but not all clauses are satisfied\n",
        "\n",
        "    # Try assigning True\n",
        "    assignment[var] = True\n",
        "    new_formula = simplify_cnf(cnf_formula, var, True)\n",
        "    result = dpll(new_formula, assignment)\n",
        "    if result is not None:\n",
        "        return result\n",
        "\n",
        "    # Backtrack and try assigning False\n",
        "    del assignment[var]\n",
        "    assignment[var] = False\n",
        "    new_formula = simplify_cnf(cnf_formula, var, False)\n",
        "    return dpll(new_formula, assignment)\n",
        "\n",
        "def get_unassigned_variable(assignment, cnf_formula):\n",
        "    for clause in cnf_formula:\n",
        "        for literal in clause:\n",
        "            var = abs(literal)\n",
        "            if var not in assignment:\n",
        "                return var\n",
        "    return None\n",
        "\n",
        "def simplify_cnf(cnf_formula, var, value):\n",
        "    simplified_formula = [clause for clause in cnf_formula if var not in clause]\n",
        "    for clause in simplified_formula:\n",
        "        clause[:] = [literal for literal in clause if literal != -var or value]\n",
        "    return simplified_formula\n",
        "\n",
        "# Example usage:\n",
        "cnf_formula1 = [[1, 1, 1], [1, 2, 2], [1, 2, 1]]\n",
        "cnf_formula2 = [[-1, -2, -1], [-1, 1, -1], [-1, -2, -1]]\n",
        "dpll_satisfiable(cnf_formula1)\n",
        "dpll_satisfiable(cnf_formula2)\n"
      ]
    },
    {
      "cell_type": "markdown",
      "source": [
        "## Code Overview\n",
        "\n",
        "###**Functions**\n",
        "\n",
        "**dpll_satisfiable(cnf_formula):**\n",
        "<div dir=rtl>\n",
        "فرآیند حل SAT را با فراخوانی تابع dpll بازگشتی آغاز می کند.\n",
        "چاپ می کند که آیا فرمول CNF رضایت بخش است یا خیر، و اگر چنین است، انتساب رضایت بخش را چاپ می کند.\n",
        "</div>\n",
        "\n",
        "\n",
        "**dpll(cnf_formula, assignment):**\n",
        "<div dir=rtl>\n",
        "یک تابع بازگشتی که الگوریتم DPLL را پیاده سازی می کند.\n",
        "\n",
        "موارد پایه را برای رضایت و عدم رضایت مدیریت می کند.\n",
        "\n",
        "یک متغیر اختصاص نیافته را انتخاب می کند، سعی می کند True و False را اختصاص دهد و در صورت لزوم به عقب برمی گردد.\n",
        "</div>\n",
        "\n",
        "**get_unassigned_variable(assignment, cnf_formula):**\n",
        "\n",
        "<div dir=rtl>\n",
        "از طریق فرمول CNF برای یافتن یک متغیر اختصاص نیافته تکرار می شود.\n",
        "\n",
        "اگر همه متغیرها اختصاص داده شده باشند، متغیر یا None را برمی‌گرداند.\n",
        "</div>\n",
        "\n",
        "**simplify_cnf(cnf_formula, var, value):**\n",
        "\n",
        "<div dir=rtl>\n",
        "فرمول CNF را با حذف بندهای حاوی متغیر مشخص شده ساده می کند.\n",
        "\n",
        "جملات را بر اساس مقدار صدق اختصاص داده شده به روز می کند.\n",
        "</div>"
      ],
      "metadata": {
        "id": "cd1UuwdPHIw6"
      }
    },
    {
      "cell_type": "markdown",
      "source": [
        "## Input Representation\n",
        "\n",
        "<div dir=rtl>\n",
        "متغیرها به صورت اعداد صحیح نمایش داده می شوند که در آن اعداد صحیح مثبت نشان دهنده درست و اعداد صحیح منفی نشان دهنده نادرست هستند.\n",
        "\n",
        "Clauseها به صورت فهرستی از literal ها نشان داده می شوند و اگر حداقل یک literal به درستی ارزیابی شود، یک Clause راضی می شود.\n",
        "</div>"
      ],
      "metadata": {
        "id": "psPgIT30MQ7r"
      }
    },
    {
      "cell_type": "markdown",
      "source": [
        "## Output\n",
        "\n",
        "<div dir=rtl>\n",
        "چاپ می شود که آیا فرمول CNF داده شده قابل قبول است یا خیر.\n",
        "\n",
        "اگر رضایت بخش باشد، یک انتساب رضایت بخش برای متغیرها فراهم می کند.\n",
        "</div>"
      ],
      "metadata": {
        "id": "AOvqALOYNVvt"
      }
    },
    {
      "cell_type": "markdown",
      "source": [
        "## Conclusion\n",
        "\n",
        "<div dir=rtl>\n",
        "حل کننده SAT پیاده سازی شده یک مثال اساسی و در عین حال کاربردی از الگوریتم DPLL را ارائه می دهد. این به عنوان یک ابزار آموزشی برای درک مبانی حل SAT در زمینه منطق گزاره ای عمل می کند. برای کاربردهای پیچیده تر، بهینه سازی ها و heuristics  های اضافی را می توان اضافه کرد.\n",
        "\n",
        "با تشکر از توجه شما.\n",
        "</div>"
      ],
      "metadata": {
        "id": "sGoOngSlN8i1"
      }
    }
  ]
}